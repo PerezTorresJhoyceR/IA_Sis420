{
  "nbformat": 4,
  "nbformat_minor": 0,
  "metadata": {
    "colab": {
      "provenance": [],
      "authorship_tag": "ABX9TyO8BK25rqpS0YMru50yE1Rg",
      "include_colab_link": true
    },
    "kernelspec": {
      "name": "python3",
      "display_name": "Python 3"
    },
    "language_info": {
      "name": "python"
    }
  },
  "cells": [
    {
      "cell_type": "markdown",
      "metadata": {
        "id": "view-in-github",
        "colab_type": "text"
      },
      "source": [
        "<a href=\"https://colab.research.google.com/github/PerezTorresJhoyceR/IA_Sis420/blob/main/Laboratorio2.ipynb\" target=\"_parent\"><img src=\"https://colab.research.google.com/assets/colab-badge.svg\" alt=\"Open In Colab\"/></a>"
      ]
    },
    {
      "cell_type": "code",
      "execution_count": 2,
      "metadata": {
        "colab": {
          "base_uri": "https://localhost:8080/"
        },
        "id": "mEWIviq7hOeV",
        "outputId": "68966936-35c2-4ac2-de40-c12fba8f8921"
      },
      "outputs": [
        {
          "output_type": "stream",
          "name": "stdout",
          "text": [
            "Mounted at /content/gdrive\n"
          ]
        }
      ],
      "source": [
        "# Librerías necesarias\n",
        "import numpy as np\n",
        "import pandas as pd\n",
        "from matplotlib import pyplot\n",
        "from google.colab import drive\n",
        "\n",
        "# Montar Google Drive\n",
        "drive.mount(\"/content/gdrive\")\n",
        "\n",
        "# Cargar datos con pandas\n",
        "df = pd.read_csv('/content/gdrive/MyDrive/IA/ClassicHit.csv')"
      ]
    },
    {
      "cell_type": "code",
      "source": [
        "# Seleccionar columnas relevantes\n",
        "X_full = df[['Danceability', 'Energy']].values\n",
        "y_full = df['Loudness'].values\n",
        "m = y_full.size\n",
        "print(\"Cantidad total de ejemplos:\", m)\n",
        "\n",
        "# División manual 80% entrenamiento, 20% prueba\n",
        "split_index = int(0.8 * m)\n",
        "X_train = X_full[:split_index]\n",
        "y_train = y_full[:split_index]\n",
        "X_test = X_full[split_index:]\n",
        "y_test = y_full[split_index:]\n",
        "\n",
        "# Normalización con base en entrenamiento\n",
        "def featureNormalize(X):\n",
        "    mu = np.mean(X, axis=0)\n",
        "    sigma = np.std(X, axis=0)\n",
        "    X_norm = (X - mu) / sigma\n",
        "    return X_norm, mu, sigma\n",
        "\n",
        "X_train_norm, mu, sigma = featureNormalize(X_train)\n",
        "X_test_norm = (X_test - mu) / sigma\n",
        "\n",
        "# Añadir columna de unos\n",
        "X_train_norm = np.concatenate([np.ones((X_train_norm.shape[0], 1)), X_train_norm], axis=1)\n",
        "X_test_norm = np.concatenate([np.ones((X_test_norm.shape[0], 1)), X_test_norm], axis=1)\n",
        "\n",
        "# Función de costo\n",
        "def computeCostMulti(X, y, theta):\n",
        "    m = y.shape[0]\n",
        "    J = (1/(2 * m)) * np.sum(np.square(np.dot(X, theta) - y))\n",
        "    return J\n",
        "\n",
        "# Descenso por el gradiente\n",
        "def gradientDescentMulti(X, y, theta, alpha, num_iters):\n",
        "    m = y.shape[0]\n",
        "    theta = theta.copy()\n",
        "    J_history = []\n",
        "\n",
        "    for i in range(num_iters):\n",
        "        theta = theta - (alpha / m) * (np.dot(X, theta) - y).dot(X)\n",
        "        J_history.append(computeCostMulti(X, y, theta))\n",
        "\n",
        "    return theta, J_history\n",
        "\n",
        "# Parámetros iniciales\n",
        "alpha = 0.001\n",
        "num_iters = 10000\n",
        "theta = np.zeros(3)\n",
        "\n",
        "# Entrenar modelo\n",
        "theta, J_history = gradientDescentMulti(X_train_norm, y_train, theta, alpha, num_iters)\n",
        "\n",
        "# Graficar convergencia del costo\n",
        "pyplot.plot(np.arange(len(J_history)), J_history, lw=2)\n",
        "pyplot.xlabel('Número de iteraciones')\n",
        "pyplot.ylabel('Costo J')\n",
        "\n",
        "# Evaluar en conjunto de prueba\n",
        "y_pred = np.dot(X_test_norm, theta)\n",
        "error = y_test - y_pred\n",
        "mse = np.mean(np.square(error))\n",
        "r2 = 1 - (np.sum(np.square(error)) / np.sum(np.square(y_test - np.mean(y_test))))\n",
        "\n",
        "print(\"Theta (descenso por gradiente):\", theta)\n",
        "print(\"Error cuadrático medio (MSE): {:.4f}\".format(mse))\n",
        "print(\"Coeficiente de determinación (R²): {:.4f}\".format(r2))\n",
        "\n",
        "# Estimar volumen para canción ficticia\n",
        "X_array = [1, 0.75, 0.80]\n",
        "X_array[1:3] = (np.array(X_array[1:3]) - mu) / sigma\n",
        "predicted_loudness = np.dot(X_array, theta)\n",
        "print('Volumen estimado (descenso por gradiente): {:.2f} dB'.format(predicted_loudness))\n",
        "\n",
        "# Comparación con ecuación de la normal (sin normalizar)\n",
        "X_train_normal = np.concatenate([np.ones((X_train.shape[0], 1)), X_train], axis=1)\n",
        "\n",
        "def normalEqn(X, y):\n",
        "    theta = np.dot(np.dot(np.linalg.inv(np.dot(X.T, X)), X.T), y)\n",
        "    return theta\n",
        "\n",
        "theta_normal = normalEqn(X_train_normal, y_train)\n",
        "\n",
        "# Evaluar en conjunto de prueba\n",
        "X_test_normal = np.concatenate([np.ones((X_test.shape[0], 1)), X_test], axis=1)\n",
        "y_pred_normal = np.dot(X_test_normal, theta_normal)\n",
        "error_normal = y_test - y_pred_normal\n",
        "mse_normal = np.mean(np.square(error_normal))\n",
        "r2_normal = 1 - (np.sum(np.square(error_normal)) / np.sum(np.square(y_test - np.mean(y_test))))\n",
        "\n",
        "print(\"Theta (ecuación de la normal):\", theta_normal)\n",
        "print(\"Error cuadrático medio (MSE): {:.4f}\".format(mse_normal))\n",
        "print(\"Coeficiente de determinación (R²): {:.4f}\".format(r2_normal))\n",
        "\n",
        "# Estimar volumen para canción ficticia\n",
        "X_array_normal = [1, 0.75, 0.80]\n",
        "predicted_loudness_normal = np.dot(X_array_normal, theta_normal)\n",
        "print('Volumen estimado (ecuación de la normal): {:.2f} dB'.format(predicted_loudness_normal))\n"
      ],
      "metadata": {
        "colab": {
          "base_uri": "https://localhost:8080/",
          "height": 605
        },
        "id": "_rkXcS5redgi",
        "outputId": "cdb553af-2e27-47ad-cc8a-e18a42d8463e"
      },
      "execution_count": 3,
      "outputs": [
        {
          "output_type": "stream",
          "name": "stdout",
          "text": [
            "Cantidad total de ejemplos: 15150\n",
            "Theta (descenso por gradiente): [-9.38783968  0.1884731   3.27387237]\n",
            "Error cuadrático medio (MSE): 7.9322\n",
            "Coeficiente de determinación (R²): 0.4849\n",
            "Volumen estimado (descenso por gradiente): -6.67 dB\n",
            "Theta (ecuación de la normal): [-18.16027446   1.14931756  13.28416515]\n",
            "Error cuadrático medio (MSE): 7.9327\n",
            "Coeficiente de determinación (R²): 0.4849\n",
            "Volumen estimado (ecuación de la normal): -6.67 dB\n"
          ]
        },
        {
          "output_type": "display_data",
          "data": {
            "text/plain": [
              "<Figure size 640x480 with 1 Axes>"
            ],
            "image/png": "[encoded data removed]"
          },
          "metadata": {}
        }
      ]
    },
    {
      "cell_type": "markdown",
      "source": [
        "El dataset “15,000 Music Tracks - 19 Genres (Spotify Data)” contiene 15,150 canciones clásicas de 3,083 artistas, recopiladas entre los años 1923 y 2023. Cada registro incluye variables numéricas extraídas de Spotify, como bailabilidad (Danceability), energía (Energy), tempo (Tempo), duración (Duration), tono (Key), modalidad (Mode), compás (Time_Signature), año de lanzamiento (Year) y volumen (Loudness). Estas características permiten aplicar regresión múltiple para modelar el volumen de una canción en función de sus propiedades acústicas y temporales.\n",
        "\n",
        "\n"
      ],
      "metadata": {
        "id": "V6f3zcAVfmo0"
      }
    }
  ]
}